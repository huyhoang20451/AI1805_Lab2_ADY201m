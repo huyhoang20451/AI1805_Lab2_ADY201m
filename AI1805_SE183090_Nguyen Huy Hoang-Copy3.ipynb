{
 "cells": [
  {
   "cell_type": "code",
   "execution_count": 1,
   "id": "3ad77c63",
   "metadata": {},
   "outputs": [],
   "source": [
    "import pandas as pd\n",
    "import numpy as np\n",
    "import matplotlib.pyplot as plt\n",
    "import seaborn as sns"
   ]
  },
  {
   "cell_type": "markdown",
   "id": "ec8eaa6d",
   "metadata": {},
   "source": [
    "SQL Query by using Pandas library in Python"
   ]
  },
  {
   "cell_type": "code",
   "execution_count": 2,
   "id": "7e14f47d",
   "metadata": {},
   "outputs": [
    {
     "data": {
      "text/html": [
       "<div>\n",
       "<style scoped>\n",
       "    .dataframe tbody tr th:only-of-type {\n",
       "        vertical-align: middle;\n",
       "    }\n",
       "\n",
       "    .dataframe tbody tr th {\n",
       "        vertical-align: top;\n",
       "    }\n",
       "\n",
       "    .dataframe thead th {\n",
       "        text-align: right;\n",
       "    }\n",
       "</style>\n",
       "<table border=\"1\" class=\"dataframe\">\n",
       "  <thead>\n",
       "    <tr style=\"text-align: right;\">\n",
       "      <th></th>\n",
       "      <th>Unnamed: 0</th>\n",
       "      <th>age</th>\n",
       "      <th>job</th>\n",
       "      <th>marital</th>\n",
       "      <th>education</th>\n",
       "      <th>default</th>\n",
       "      <th>balance</th>\n",
       "      <th>housing</th>\n",
       "      <th>loan</th>\n",
       "      <th>contact</th>\n",
       "      <th>day</th>\n",
       "      <th>month</th>\n",
       "      <th>duration</th>\n",
       "      <th>campaign</th>\n",
       "      <th>pdays</th>\n",
       "      <th>previous</th>\n",
       "      <th>poutcome</th>\n",
       "      <th>y</th>\n",
       "    </tr>\n",
       "  </thead>\n",
       "  <tbody>\n",
       "    <tr>\n",
       "      <th>0</th>\n",
       "      <td>0</td>\n",
       "      <td>30</td>\n",
       "      <td>unemployed</td>\n",
       "      <td>married</td>\n",
       "      <td>primary</td>\n",
       "      <td>no</td>\n",
       "      <td>1787</td>\n",
       "      <td>no</td>\n",
       "      <td>no</td>\n",
       "      <td>cellular</td>\n",
       "      <td>19</td>\n",
       "      <td>oct</td>\n",
       "      <td>79</td>\n",
       "      <td>1</td>\n",
       "      <td>-1</td>\n",
       "      <td>0</td>\n",
       "      <td>unknown</td>\n",
       "      <td>no</td>\n",
       "    </tr>\n",
       "    <tr>\n",
       "      <th>1</th>\n",
       "      <td>1</td>\n",
       "      <td>33</td>\n",
       "      <td>services</td>\n",
       "      <td>married</td>\n",
       "      <td>secondary</td>\n",
       "      <td>no</td>\n",
       "      <td>4789</td>\n",
       "      <td>yes</td>\n",
       "      <td>yes</td>\n",
       "      <td>cellular</td>\n",
       "      <td>11</td>\n",
       "      <td>may</td>\n",
       "      <td>220</td>\n",
       "      <td>1</td>\n",
       "      <td>339</td>\n",
       "      <td>4</td>\n",
       "      <td>failure</td>\n",
       "      <td>no</td>\n",
       "    </tr>\n",
       "    <tr>\n",
       "      <th>2</th>\n",
       "      <td>2</td>\n",
       "      <td>35</td>\n",
       "      <td>management</td>\n",
       "      <td>single</td>\n",
       "      <td>tertiary</td>\n",
       "      <td>no</td>\n",
       "      <td>1350</td>\n",
       "      <td>yes</td>\n",
       "      <td>no</td>\n",
       "      <td>cellular</td>\n",
       "      <td>16</td>\n",
       "      <td>apr</td>\n",
       "      <td>185</td>\n",
       "      <td>1</td>\n",
       "      <td>330</td>\n",
       "      <td>1</td>\n",
       "      <td>failure</td>\n",
       "      <td>no</td>\n",
       "    </tr>\n",
       "    <tr>\n",
       "      <th>3</th>\n",
       "      <td>3</td>\n",
       "      <td>30</td>\n",
       "      <td>management</td>\n",
       "      <td>married</td>\n",
       "      <td>tertiary</td>\n",
       "      <td>no</td>\n",
       "      <td>1476</td>\n",
       "      <td>yes</td>\n",
       "      <td>yes</td>\n",
       "      <td>unknown</td>\n",
       "      <td>3</td>\n",
       "      <td>jun</td>\n",
       "      <td>199</td>\n",
       "      <td>4</td>\n",
       "      <td>-1</td>\n",
       "      <td>0</td>\n",
       "      <td>unknown</td>\n",
       "      <td>no</td>\n",
       "    </tr>\n",
       "    <tr>\n",
       "      <th>4</th>\n",
       "      <td>4</td>\n",
       "      <td>59</td>\n",
       "      <td>blue-collar</td>\n",
       "      <td>married</td>\n",
       "      <td>secondary</td>\n",
       "      <td>no</td>\n",
       "      <td>0</td>\n",
       "      <td>yes</td>\n",
       "      <td>no</td>\n",
       "      <td>unknown</td>\n",
       "      <td>5</td>\n",
       "      <td>may</td>\n",
       "      <td>226</td>\n",
       "      <td>1</td>\n",
       "      <td>-1</td>\n",
       "      <td>0</td>\n",
       "      <td>unknown</td>\n",
       "      <td>no</td>\n",
       "    </tr>\n",
       "  </tbody>\n",
       "</table>\n",
       "</div>"
      ],
      "text/plain": [
       "   Unnamed: 0  age          job  marital  education default  balance housing  \\\n",
       "0           0   30   unemployed  married    primary      no     1787      no   \n",
       "1           1   33     services  married  secondary      no     4789     yes   \n",
       "2           2   35   management   single   tertiary      no     1350     yes   \n",
       "3           3   30   management  married   tertiary      no     1476     yes   \n",
       "4           4   59  blue-collar  married  secondary      no        0     yes   \n",
       "\n",
       "  loan   contact  day month  duration  campaign  pdays  previous poutcome   y  \n",
       "0   no  cellular   19   oct        79         1     -1         0  unknown  no  \n",
       "1  yes  cellular   11   may       220         1    339         4  failure  no  \n",
       "2   no  cellular   16   apr       185         1    330         1  failure  no  \n",
       "3  yes   unknown    3   jun       199         4     -1         0  unknown  no  \n",
       "4   no   unknown    5   may       226         1     -1         0  unknown  no  "
      ]
     },
     "execution_count": 2,
     "metadata": {},
     "output_type": "execute_result"
    }
   ],
   "source": [
    "fileUpload = pd.read_csv('bank_data.csv')\n",
    "fileUpload.head()"
   ]
  },
  {
   "cell_type": "code",
   "execution_count": 3,
   "id": "d8ef1888",
   "metadata": {},
   "outputs": [
    {
     "name": "stdout",
     "output_type": "stream",
     "text": [
      "<class 'pandas.core.frame.DataFrame'>\n",
      "RangeIndex: 4521 entries, 0 to 4520\n",
      "Data columns (total 18 columns):\n",
      " #   Column      Non-Null Count  Dtype \n",
      "---  ------      --------------  ----- \n",
      " 0   Unnamed: 0  4521 non-null   int64 \n",
      " 1   age         4521 non-null   int64 \n",
      " 2   job         4521 non-null   object\n",
      " 3   marital     4521 non-null   object\n",
      " 4   education   4521 non-null   object\n",
      " 5   default     4521 non-null   object\n",
      " 6   balance     4521 non-null   int64 \n",
      " 7   housing     4521 non-null   object\n",
      " 8   loan        4521 non-null   object\n",
      " 9   contact     4521 non-null   object\n",
      " 10  day         4521 non-null   int64 \n",
      " 11  month       4521 non-null   object\n",
      " 12  duration    4521 non-null   int64 \n",
      " 13  campaign    4521 non-null   int64 \n",
      " 14  pdays       4521 non-null   int64 \n",
      " 15  previous    4521 non-null   int64 \n",
      " 16  poutcome    4521 non-null   object\n",
      " 17  y           4521 non-null   object\n",
      "dtypes: int64(8), object(10)\n",
      "memory usage: 635.9+ KB\n"
     ]
    }
   ],
   "source": [
    "fileUpload.info()"
   ]
  },
  {
   "cell_type": "code",
   "execution_count": 49,
   "id": "1053603d",
   "metadata": {},
   "outputs": [
    {
     "name": "stdout",
     "output_type": "stream",
     "text": [
      "27069\n"
     ]
    }
   ],
   "source": [
    "#1. Take 25% oldest people and calculate 2nd highest balance\n",
    "oldest_df = fileUpload.sort_values('age', ascending=False).head(int(len(fileUpload) * 0.25))\n",
    "second_highest_balance = oldest_df['balance'].nlargest(2).iloc[-1]\n",
    "print(second_highest_balance)"
   ]
  },
  {
   "cell_type": "code",
   "execution_count": 9,
   "id": "70254a38",
   "metadata": {},
   "outputs": [
    {
     "data": {
      "text/plain": [
       "80"
      ]
     },
     "execution_count": 9,
     "metadata": {},
     "output_type": "execute_result"
    }
   ],
   "source": [
    "#2. use pandas to check how many people load house?\n",
    "len(fileUpload.loc[fileUpload.month == 'oct'])"
   ]
  },
  {
   "cell_type": "code",
   "execution_count": 15,
   "id": "9169021a",
   "metadata": {},
   "outputs": [
    {
     "data": {
      "text/html": [
       "<div>\n",
       "<style scoped>\n",
       "    .dataframe tbody tr th:only-of-type {\n",
       "        vertical-align: middle;\n",
       "    }\n",
       "\n",
       "    .dataframe tbody tr th {\n",
       "        vertical-align: top;\n",
       "    }\n",
       "\n",
       "    .dataframe thead th {\n",
       "        text-align: right;\n",
       "    }\n",
       "</style>\n",
       "<table border=\"1\" class=\"dataframe\">\n",
       "  <thead>\n",
       "    <tr style=\"text-align: right;\">\n",
       "      <th></th>\n",
       "      <th>Unnamed: 0</th>\n",
       "      <th>age</th>\n",
       "      <th>job</th>\n",
       "      <th>marital</th>\n",
       "      <th>education</th>\n",
       "      <th>default</th>\n",
       "      <th>balance</th>\n",
       "      <th>housing</th>\n",
       "      <th>loan</th>\n",
       "      <th>contact</th>\n",
       "      <th>day</th>\n",
       "      <th>month</th>\n",
       "      <th>duration</th>\n",
       "      <th>campaign</th>\n",
       "      <th>pdays</th>\n",
       "      <th>previous</th>\n",
       "      <th>poutcome</th>\n",
       "      <th>y</th>\n",
       "      <th>duration_length</th>\n",
       "    </tr>\n",
       "  </thead>\n",
       "  <tbody>\n",
       "    <tr>\n",
       "      <th>0</th>\n",
       "      <td>0</td>\n",
       "      <td>30</td>\n",
       "      <td>unemployed</td>\n",
       "      <td>married</td>\n",
       "      <td>primary</td>\n",
       "      <td>no</td>\n",
       "      <td>1787</td>\n",
       "      <td>no</td>\n",
       "      <td>no</td>\n",
       "      <td>cellular</td>\n",
       "      <td>19</td>\n",
       "      <td>oct</td>\n",
       "      <td>79</td>\n",
       "      <td>1</td>\n",
       "      <td>-1</td>\n",
       "      <td>0</td>\n",
       "      <td>unknown</td>\n",
       "      <td>no</td>\n",
       "      <td>Short</td>\n",
       "    </tr>\n",
       "    <tr>\n",
       "      <th>1</th>\n",
       "      <td>1</td>\n",
       "      <td>33</td>\n",
       "      <td>services</td>\n",
       "      <td>married</td>\n",
       "      <td>secondary</td>\n",
       "      <td>no</td>\n",
       "      <td>4789</td>\n",
       "      <td>yes</td>\n",
       "      <td>yes</td>\n",
       "      <td>cellular</td>\n",
       "      <td>11</td>\n",
       "      <td>may</td>\n",
       "      <td>220</td>\n",
       "      <td>1</td>\n",
       "      <td>339</td>\n",
       "      <td>4</td>\n",
       "      <td>failure</td>\n",
       "      <td>no</td>\n",
       "      <td>Long</td>\n",
       "    </tr>\n",
       "    <tr>\n",
       "      <th>2</th>\n",
       "      <td>2</td>\n",
       "      <td>35</td>\n",
       "      <td>management</td>\n",
       "      <td>single</td>\n",
       "      <td>tertiary</td>\n",
       "      <td>no</td>\n",
       "      <td>1350</td>\n",
       "      <td>yes</td>\n",
       "      <td>no</td>\n",
       "      <td>cellular</td>\n",
       "      <td>16</td>\n",
       "      <td>apr</td>\n",
       "      <td>185</td>\n",
       "      <td>1</td>\n",
       "      <td>330</td>\n",
       "      <td>1</td>\n",
       "      <td>failure</td>\n",
       "      <td>no</td>\n",
       "      <td>Long</td>\n",
       "    </tr>\n",
       "    <tr>\n",
       "      <th>3</th>\n",
       "      <td>3</td>\n",
       "      <td>30</td>\n",
       "      <td>management</td>\n",
       "      <td>married</td>\n",
       "      <td>tertiary</td>\n",
       "      <td>no</td>\n",
       "      <td>1476</td>\n",
       "      <td>yes</td>\n",
       "      <td>yes</td>\n",
       "      <td>unknown</td>\n",
       "      <td>3</td>\n",
       "      <td>jun</td>\n",
       "      <td>199</td>\n",
       "      <td>4</td>\n",
       "      <td>-1</td>\n",
       "      <td>0</td>\n",
       "      <td>unknown</td>\n",
       "      <td>no</td>\n",
       "      <td>Long</td>\n",
       "    </tr>\n",
       "    <tr>\n",
       "      <th>4</th>\n",
       "      <td>4</td>\n",
       "      <td>59</td>\n",
       "      <td>blue-collar</td>\n",
       "      <td>married</td>\n",
       "      <td>secondary</td>\n",
       "      <td>no</td>\n",
       "      <td>0</td>\n",
       "      <td>yes</td>\n",
       "      <td>no</td>\n",
       "      <td>unknown</td>\n",
       "      <td>5</td>\n",
       "      <td>may</td>\n",
       "      <td>226</td>\n",
       "      <td>1</td>\n",
       "      <td>-1</td>\n",
       "      <td>0</td>\n",
       "      <td>unknown</td>\n",
       "      <td>no</td>\n",
       "      <td>Long</td>\n",
       "    </tr>\n",
       "  </tbody>\n",
       "</table>\n",
       "</div>"
      ],
      "text/plain": [
       "   Unnamed: 0  age          job  marital  education default  balance housing  \\\n",
       "0           0   30   unemployed  married    primary      no     1787      no   \n",
       "1           1   33     services  married  secondary      no     4789     yes   \n",
       "2           2   35   management   single   tertiary      no     1350     yes   \n",
       "3           3   30   management  married   tertiary      no     1476     yes   \n",
       "4           4   59  blue-collar  married  secondary      no        0     yes   \n",
       "\n",
       "  loan   contact  day month  duration  campaign  pdays  previous poutcome   y  \\\n",
       "0   no  cellular   19   oct        79         1     -1         0  unknown  no   \n",
       "1  yes  cellular   11   may       220         1    339         4  failure  no   \n",
       "2   no  cellular   16   apr       185         1    330         1  failure  no   \n",
       "3  yes   unknown    3   jun       199         4     -1         0  unknown  no   \n",
       "4   no   unknown    5   may       226         1     -1         0  unknown  no   \n",
       "\n",
       "  duration_length  \n",
       "0           Short  \n",
       "1            Long  \n",
       "2            Long  \n",
       "3            Long  \n",
       "4            Long  "
      ]
     },
     "execution_count": 15,
     "metadata": {},
     "output_type": "execute_result"
    }
   ],
   "source": [
    "#3. create duration_length so that\n",
    "#-duration < 0.3 avg(duration) --> duration_length=Short - \n",
    "#- duration>=0.3 avg(duration) && \n",
    "#duration<0.6 avg(duration)-->duration_length=Medium\n",
    "#- duration>=0.6 avg(duration)-->duration_length=Long\n",
    "\n",
    "avg_duration = fileUpload['duration'].mean()\n",
    "\n",
    "def label_duration(row):\n",
    "    if row < 0.3 * avg_duration:\n",
    "        return 'Short'\n",
    "    elif row >= 0.3 * avg_duration and row < 0.6 * avg_duration:\n",
    "        return 'Medium'\n",
    "    else:\n",
    "        return 'Long'\n",
    "\n",
    "fileUpload['duration_length'] = fileUpload['duration'].apply(label_duration)\n",
    "fileUpload.head()"
   ]
  },
  {
   "cell_type": "code",
   "execution_count": 21,
   "id": "f1fde1e7",
   "metadata": {},
   "outputs": [
    {
     "data": {
      "text/plain": [
       "education\n",
       "secondary    62.012142\n",
       "tertiary     49.111111\n",
       "primary      56.489676\n",
       "unknown      44.385027\n",
       "Name: count, dtype: float64"
      ]
     },
     "execution_count": 21,
     "metadata": {},
     "output_type": "execute_result"
    }
   ],
   "source": [
    "#9. How many percent of each education level has housing=yes\n",
    "fileSelect = fileUpload.loc[fileUpload.housing == 'yes'].education.value_counts()\n",
    "dataT = fileUpload.education.value_counts()\n",
    "(fileSelect/dataT)*100"
   ]
  },
  {
   "cell_type": "code",
   "execution_count": 22,
   "id": "ad0f1cf7",
   "metadata": {},
   "outputs": [
    {
     "data": {
      "text/plain": [
       "marital\n",
       "divorced     592622\n",
       "married     4092558\n",
       "single      1746656\n",
       "Name: balance, dtype: int64"
      ]
     },
     "execution_count": 22,
     "metadata": {},
     "output_type": "execute_result"
    }
   ],
   "source": [
    "#4.Count marial status of people and\n",
    "#sum balance of each group\n",
    "fileUpload.groupby('marital')['balance'].sum()"
   ]
  },
  {
   "cell_type": "code",
   "execution_count": 26,
   "id": "5bdcd856",
   "metadata": {},
   "outputs": [
    {
     "data": {
      "text/html": [
       "<div>\n",
       "<style scoped>\n",
       "    .dataframe tbody tr th:only-of-type {\n",
       "        vertical-align: middle;\n",
       "    }\n",
       "\n",
       "    .dataframe tbody tr th {\n",
       "        vertical-align: top;\n",
       "    }\n",
       "\n",
       "    .dataframe thead th {\n",
       "        text-align: right;\n",
       "    }\n",
       "</style>\n",
       "<table border=\"1\" class=\"dataframe\">\n",
       "  <thead>\n",
       "    <tr style=\"text-align: right;\">\n",
       "      <th></th>\n",
       "      <th>Unnamed: 0</th>\n",
       "      <th>age</th>\n",
       "      <th>job</th>\n",
       "      <th>marital</th>\n",
       "      <th>education</th>\n",
       "      <th>default</th>\n",
       "      <th>balance</th>\n",
       "      <th>housing</th>\n",
       "      <th>loan</th>\n",
       "      <th>contact</th>\n",
       "      <th>day</th>\n",
       "      <th>month</th>\n",
       "      <th>duration</th>\n",
       "      <th>campaign</th>\n",
       "      <th>pdays</th>\n",
       "      <th>previous</th>\n",
       "      <th>poutcome</th>\n",
       "      <th>y</th>\n",
       "      <th>duration_length</th>\n",
       "      <th>Age_group</th>\n",
       "    </tr>\n",
       "  </thead>\n",
       "  <tbody>\n",
       "    <tr>\n",
       "      <th>0</th>\n",
       "      <td>0</td>\n",
       "      <td>30</td>\n",
       "      <td>unemployed</td>\n",
       "      <td>married</td>\n",
       "      <td>primary</td>\n",
       "      <td>no</td>\n",
       "      <td>1787</td>\n",
       "      <td>no</td>\n",
       "      <td>no</td>\n",
       "      <td>cellular</td>\n",
       "      <td>19</td>\n",
       "      <td>oct</td>\n",
       "      <td>79</td>\n",
       "      <td>1</td>\n",
       "      <td>-1</td>\n",
       "      <td>0</td>\n",
       "      <td>unknown</td>\n",
       "      <td>no</td>\n",
       "      <td>Short</td>\n",
       "      <td>Adult</td>\n",
       "    </tr>\n",
       "    <tr>\n",
       "      <th>1</th>\n",
       "      <td>1</td>\n",
       "      <td>33</td>\n",
       "      <td>services</td>\n",
       "      <td>married</td>\n",
       "      <td>secondary</td>\n",
       "      <td>no</td>\n",
       "      <td>4789</td>\n",
       "      <td>yes</td>\n",
       "      <td>yes</td>\n",
       "      <td>cellular</td>\n",
       "      <td>11</td>\n",
       "      <td>may</td>\n",
       "      <td>220</td>\n",
       "      <td>1</td>\n",
       "      <td>339</td>\n",
       "      <td>4</td>\n",
       "      <td>failure</td>\n",
       "      <td>no</td>\n",
       "      <td>Long</td>\n",
       "      <td>Adult</td>\n",
       "    </tr>\n",
       "    <tr>\n",
       "      <th>2</th>\n",
       "      <td>2</td>\n",
       "      <td>35</td>\n",
       "      <td>management</td>\n",
       "      <td>single</td>\n",
       "      <td>tertiary</td>\n",
       "      <td>no</td>\n",
       "      <td>1350</td>\n",
       "      <td>yes</td>\n",
       "      <td>no</td>\n",
       "      <td>cellular</td>\n",
       "      <td>16</td>\n",
       "      <td>apr</td>\n",
       "      <td>185</td>\n",
       "      <td>1</td>\n",
       "      <td>330</td>\n",
       "      <td>1</td>\n",
       "      <td>failure</td>\n",
       "      <td>no</td>\n",
       "      <td>Long</td>\n",
       "      <td>Adult</td>\n",
       "    </tr>\n",
       "    <tr>\n",
       "      <th>3</th>\n",
       "      <td>3</td>\n",
       "      <td>30</td>\n",
       "      <td>management</td>\n",
       "      <td>married</td>\n",
       "      <td>tertiary</td>\n",
       "      <td>no</td>\n",
       "      <td>1476</td>\n",
       "      <td>yes</td>\n",
       "      <td>yes</td>\n",
       "      <td>unknown</td>\n",
       "      <td>3</td>\n",
       "      <td>jun</td>\n",
       "      <td>199</td>\n",
       "      <td>4</td>\n",
       "      <td>-1</td>\n",
       "      <td>0</td>\n",
       "      <td>unknown</td>\n",
       "      <td>no</td>\n",
       "      <td>Long</td>\n",
       "      <td>Adult</td>\n",
       "    </tr>\n",
       "    <tr>\n",
       "      <th>4</th>\n",
       "      <td>4</td>\n",
       "      <td>59</td>\n",
       "      <td>blue-collar</td>\n",
       "      <td>married</td>\n",
       "      <td>secondary</td>\n",
       "      <td>no</td>\n",
       "      <td>0</td>\n",
       "      <td>yes</td>\n",
       "      <td>no</td>\n",
       "      <td>unknown</td>\n",
       "      <td>5</td>\n",
       "      <td>may</td>\n",
       "      <td>226</td>\n",
       "      <td>1</td>\n",
       "      <td>-1</td>\n",
       "      <td>0</td>\n",
       "      <td>unknown</td>\n",
       "      <td>no</td>\n",
       "      <td>Long</td>\n",
       "      <td>Adult</td>\n",
       "    </tr>\n",
       "  </tbody>\n",
       "</table>\n",
       "</div>"
      ],
      "text/plain": [
       "   Unnamed: 0  age          job  marital  education default  balance housing  \\\n",
       "0           0   30   unemployed  married    primary      no     1787      no   \n",
       "1           1   33     services  married  secondary      no     4789     yes   \n",
       "2           2   35   management   single   tertiary      no     1350     yes   \n",
       "3           3   30   management  married   tertiary      no     1476     yes   \n",
       "4           4   59  blue-collar  married  secondary      no        0     yes   \n",
       "\n",
       "  loan   contact  day month  duration  campaign  pdays  previous poutcome   y  \\\n",
       "0   no  cellular   19   oct        79         1     -1         0  unknown  no   \n",
       "1  yes  cellular   11   may       220         1    339         4  failure  no   \n",
       "2   no  cellular   16   apr       185         1    330         1  failure  no   \n",
       "3  yes   unknown    3   jun       199         4     -1         0  unknown  no   \n",
       "4   no   unknown    5   may       226         1     -1         0  unknown  no   \n",
       "\n",
       "  duration_length Age_group  \n",
       "0           Short     Adult  \n",
       "1            Long     Adult  \n",
       "2            Long     Adult  \n",
       "3            Long     Adult  \n",
       "4            Long     Adult  "
      ]
     },
     "execution_count": 26,
     "metadata": {},
     "output_type": "execute_result"
    }
   ],
   "source": [
    "#5. Create Age_group so that\n",
    "#Age_group = Young if age < 30\n",
    "#Age_group = Adult if age >= 30 && age < 60\n",
    "#Age_group = Elderly if age >= 60.\n",
    "fileUpload['age'].value_counts()\n",
    "fileUpload['Age_group']=['']*fileUpload.shape[0]\n",
    "\n",
    "for i in range(fileUpload.shape[0]):\n",
    "    if fileUpload.loc[i,'age']<30:\n",
    "        fileUpload.loc[i,'Age_group']='Young'\n",
    "    elif fileUpload.loc[i,'age']>= 30 and fileUpload.loc[i, 'age'] < 60:\n",
    "        fileUpload.loc[i,'Age_group']='Adult'\n",
    "    else:\n",
    "        fileUpload.loc[i,'Age_group']='Elderly'\n",
    "fileUpload.head()"
   ]
  },
  {
   "cell_type": "code",
   "execution_count": 28,
   "id": "ad0a2c6f",
   "metadata": {},
   "outputs": [
    {
     "name": "stdout",
     "output_type": "stream",
     "text": [
      "The job has the highest balance in the table is:  retired\n"
     ]
    }
   ],
   "source": [
    "#10. Which job has the highest balance in the table?\n",
    "find_max = fileUpload.groupby('job')['balance'].mean()\n",
    "job_with_highest_balance = find_max.idxmax()\n",
    "print('The job has the highest balance in the table is: ',job_with_highest_balance)"
   ]
  },
  {
   "cell_type": "code",
   "execution_count": 35,
   "id": "28c3ec97",
   "metadata": {},
   "outputs": [
    {
     "name": "stdout",
     "output_type": "stream",
     "text": [
      "18\n"
     ]
    }
   ],
   "source": [
    "#7. In what day of month the contact is the highest in Cellular\n",
    "find_month = fileUpload[fileUpload['contact'] == 'cellular'].groupby('day').size()\n",
    "max_day = find_month.idxmax()\n",
    "print(max_day)"
   ]
  },
  {
   "cell_type": "code",
   "execution_count": 37,
   "id": "bf381b0c",
   "metadata": {},
   "outputs": [
    {
     "name": "stdout",
     "output_type": "stream",
     "text": [
      "The month with highest campaign is:may\n"
     ]
    }
   ],
   "source": [
    "#6. In what month the Campain has the highest number?\n",
    "find_max = fileUpload.groupby('month')['campaign'].count()\n",
    "month_with_highest_campaign = find_max.idxmax()\n",
    "print(f'The month with highest campaign is:{month_with_highest_campaign}')"
   ]
  },
  {
   "cell_type": "code",
   "execution_count": 48,
   "id": "be9369cf",
   "metadata": {},
   "outputs": [
    {
     "data": {
      "text/plain": [
       "loan\n",
       "no     NaN\n",
       "yes    1.0\n",
       "Name: count, dtype: float64"
      ]
     },
     "execution_count": 48,
     "metadata": {},
     "output_type": "execute_result"
    }
   ],
   "source": [
    "#8. verify client who doesn't have any contact, how many percent of them has loan=yes\n",
    "fileExceed = fileUpload.loc[fileUpload['loan'] == 'yes'].loan.value_counts()\n",
    "ds = fileUpload.loan.value_counts()\n",
    "fileExceed / ds"
   ]
  },
  {
   "cell_type": "markdown",
   "id": "3fb0005f",
   "metadata": {},
   "source": [
    "Machine Learning part:"
   ]
  },
  {
   "cell_type": "code",
   "execution_count": 50,
   "id": "2d0a1f7e",
   "metadata": {},
   "outputs": [],
   "source": [
    "import sklearn\n",
    "from sklearn import linear_model\n",
    "from sklearn.model_selection import train_test_split\n",
    "from sklearn.ensemble import RandomForestClassifier"
   ]
  },
  {
   "cell_type": "code",
   "execution_count": 77,
   "id": "1b49d766",
   "metadata": {},
   "outputs": [
    {
     "data": {
      "text/plain": [
       "<Axes: xlabel='balance', ylabel='Count'>"
      ]
     },
     "execution_count": 77,
     "metadata": {},
     "output_type": "execute_result"
    },
    {
     "data": {
      "image/png": "[encoded data removed]",
      "text/plain": [
       "<Figure size 640x480 with 1 Axes>"
      ]
     },
     "metadata": {},
     "output_type": "display_data"
    }
   ],
   "source": [
    "sns.histplot(fileUpload.balance,bins=80)"
   ]
  },
  {
   "cell_type": "code",
   "execution_count": 79,
   "id": "654d35f9",
   "metadata": {},
   "outputs": [
    {
     "data": {
      "text/plain": [
       "<Axes: xlabel='age', ylabel='balance'>"
      ]
     },
     "execution_count": 79,
     "metadata": {},
     "output_type": "execute_result"
    },
    {
     "data": {
      "image/png": "[encoded data removed]",
      "text/plain": [
       "<Figure size 640x480 with 1 Axes>"
      ]
     },
     "metadata": {},
     "output_type": "display_data"
    }
   ],
   "source": [
    "sns.barplot(x='age',y='balance',data=fileUpload)"
   ]
  },
  {
   "cell_type": "code",
   "execution_count": 82,
   "id": "597be8d1",
   "metadata": {},
   "outputs": [
    {
     "data": {
      "text/plain": [
       "<Axes: ylabel='balance'>"
      ]
     },
     "execution_count": 82,
     "metadata": {},
     "output_type": "execute_result"
    },
    {
     "data": {
      "image/png": "[encoded data removed]",
      "text/plain": [
       "<Figure size 640x480 with 1 Axes>"
      ]
     },
     "metadata": {},
     "output_type": "display_data"
    }
   ],
   "source": [
    "sns.lineplot(fileUpload.balance)"
   ]
  },
  {
   "cell_type": "code",
   "execution_count": 53,
   "id": "1ce293c5",
   "metadata": {},
   "outputs": [
    {
     "data": {
      "text/html": [
       "<div>\n",
       "<style scoped>\n",
       "    .dataframe tbody tr th:only-of-type {\n",
       "        vertical-align: middle;\n",
       "    }\n",
       "\n",
       "    .dataframe tbody tr th {\n",
       "        vertical-align: top;\n",
       "    }\n",
       "\n",
       "    .dataframe thead th {\n",
       "        text-align: right;\n",
       "    }\n",
       "</style>\n",
       "<table border=\"1\" class=\"dataframe\">\n",
       "  <thead>\n",
       "    <tr style=\"text-align: right;\">\n",
       "      <th></th>\n",
       "      <th>Unnamed: 0</th>\n",
       "      <th>age</th>\n",
       "      <th>job</th>\n",
       "      <th>marital</th>\n",
       "      <th>education</th>\n",
       "      <th>default</th>\n",
       "      <th>balance</th>\n",
       "      <th>housing</th>\n",
       "      <th>loan</th>\n",
       "      <th>contact</th>\n",
       "      <th>day</th>\n",
       "      <th>month</th>\n",
       "      <th>duration</th>\n",
       "      <th>campaign</th>\n",
       "      <th>pdays</th>\n",
       "      <th>previous</th>\n",
       "      <th>poutcome</th>\n",
       "      <th>y</th>\n",
       "      <th>duration_length</th>\n",
       "      <th>Age_group</th>\n",
       "    </tr>\n",
       "  </thead>\n",
       "  <tbody>\n",
       "    <tr>\n",
       "      <th>0</th>\n",
       "      <td>0</td>\n",
       "      <td>30</td>\n",
       "      <td>unemployed</td>\n",
       "      <td>married</td>\n",
       "      <td>primary</td>\n",
       "      <td>no</td>\n",
       "      <td>1787</td>\n",
       "      <td>no</td>\n",
       "      <td>no</td>\n",
       "      <td>cellular</td>\n",
       "      <td>19</td>\n",
       "      <td>oct</td>\n",
       "      <td>79</td>\n",
       "      <td>1</td>\n",
       "      <td>-1</td>\n",
       "      <td>0</td>\n",
       "      <td>unknown</td>\n",
       "      <td>0</td>\n",
       "      <td>Short</td>\n",
       "      <td>Adult</td>\n",
       "    </tr>\n",
       "    <tr>\n",
       "      <th>1</th>\n",
       "      <td>1</td>\n",
       "      <td>33</td>\n",
       "      <td>services</td>\n",
       "      <td>married</td>\n",
       "      <td>secondary</td>\n",
       "      <td>no</td>\n",
       "      <td>4789</td>\n",
       "      <td>yes</td>\n",
       "      <td>yes</td>\n",
       "      <td>cellular</td>\n",
       "      <td>11</td>\n",
       "      <td>may</td>\n",
       "      <td>220</td>\n",
       "      <td>1</td>\n",
       "      <td>339</td>\n",
       "      <td>4</td>\n",
       "      <td>failure</td>\n",
       "      <td>0</td>\n",
       "      <td>Long</td>\n",
       "      <td>Adult</td>\n",
       "    </tr>\n",
       "    <tr>\n",
       "      <th>2</th>\n",
       "      <td>2</td>\n",
       "      <td>35</td>\n",
       "      <td>management</td>\n",
       "      <td>single</td>\n",
       "      <td>tertiary</td>\n",
       "      <td>no</td>\n",
       "      <td>1350</td>\n",
       "      <td>yes</td>\n",
       "      <td>no</td>\n",
       "      <td>cellular</td>\n",
       "      <td>16</td>\n",
       "      <td>apr</td>\n",
       "      <td>185</td>\n",
       "      <td>1</td>\n",
       "      <td>330</td>\n",
       "      <td>1</td>\n",
       "      <td>failure</td>\n",
       "      <td>0</td>\n",
       "      <td>Long</td>\n",
       "      <td>Adult</td>\n",
       "    </tr>\n",
       "    <tr>\n",
       "      <th>3</th>\n",
       "      <td>3</td>\n",
       "      <td>30</td>\n",
       "      <td>management</td>\n",
       "      <td>married</td>\n",
       "      <td>tertiary</td>\n",
       "      <td>no</td>\n",
       "      <td>1476</td>\n",
       "      <td>yes</td>\n",
       "      <td>yes</td>\n",
       "      <td>unknown</td>\n",
       "      <td>3</td>\n",
       "      <td>jun</td>\n",
       "      <td>199</td>\n",
       "      <td>4</td>\n",
       "      <td>-1</td>\n",
       "      <td>0</td>\n",
       "      <td>unknown</td>\n",
       "      <td>0</td>\n",
       "      <td>Long</td>\n",
       "      <td>Adult</td>\n",
       "    </tr>\n",
       "    <tr>\n",
       "      <th>4</th>\n",
       "      <td>4</td>\n",
       "      <td>59</td>\n",
       "      <td>blue-collar</td>\n",
       "      <td>married</td>\n",
       "      <td>secondary</td>\n",
       "      <td>no</td>\n",
       "      <td>0</td>\n",
       "      <td>yes</td>\n",
       "      <td>no</td>\n",
       "      <td>unknown</td>\n",
       "      <td>5</td>\n",
       "      <td>may</td>\n",
       "      <td>226</td>\n",
       "      <td>1</td>\n",
       "      <td>-1</td>\n",
       "      <td>0</td>\n",
       "      <td>unknown</td>\n",
       "      <td>0</td>\n",
       "      <td>Long</td>\n",
       "      <td>Adult</td>\n",
       "    </tr>\n",
       "  </tbody>\n",
       "</table>\n",
       "</div>"
      ],
      "text/plain": [
       "   Unnamed: 0  age          job  marital  education default  balance housing  \\\n",
       "0           0   30   unemployed  married    primary      no     1787      no   \n",
       "1           1   33     services  married  secondary      no     4789     yes   \n",
       "2           2   35   management   single   tertiary      no     1350     yes   \n",
       "3           3   30   management  married   tertiary      no     1476     yes   \n",
       "4           4   59  blue-collar  married  secondary      no        0     yes   \n",
       "\n",
       "  loan   contact  day month  duration  campaign  pdays  previous poutcome  y  \\\n",
       "0   no  cellular   19   oct        79         1     -1         0  unknown  0   \n",
       "1  yes  cellular   11   may       220         1    339         4  failure  0   \n",
       "2   no  cellular   16   apr       185         1    330         1  failure  0   \n",
       "3  yes   unknown    3   jun       199         4     -1         0  unknown  0   \n",
       "4   no   unknown    5   may       226         1     -1         0  unknown  0   \n",
       "\n",
       "  duration_length Age_group  \n",
       "0           Short     Adult  \n",
       "1            Long     Adult  \n",
       "2            Long     Adult  \n",
       "3            Long     Adult  \n",
       "4            Long     Adult  "
      ]
     },
     "execution_count": 53,
     "metadata": {},
     "output_type": "execute_result"
    }
   ],
   "source": [
    "fileUpload.replace({'y':{'yes':1, 'no':0}}, inplace=True)\n",
    "fileUpload.head()"
   ]
  },
  {
   "cell_type": "code",
   "execution_count": 65,
   "id": "924d648f",
   "metadata": {},
   "outputs": [
    {
     "data": {
      "text/plain": [
       "Index(['Unnamed: 0', 'age', 'job', 'marital', 'education', 'default',\n",
       "       'balance', 'housing', 'loan', 'contact', 'day', 'month', 'duration',\n",
       "       'campaign', 'pdays', 'previous', 'poutcome', 'y', 'duration_length',\n",
       "       'Age_group'],\n",
       "      dtype='object')"
      ]
     },
     "execution_count": 65,
     "metadata": {},
     "output_type": "execute_result"
    }
   ],
   "source": [
    "fileUpload.columns"
   ]
  },
  {
   "cell_type": "code",
   "execution_count": 55,
   "id": "f21828a4",
   "metadata": {},
   "outputs": [
    {
     "data": {
      "text/html": [
       "<div>\n",
       "<style scoped>\n",
       "    .dataframe tbody tr th:only-of-type {\n",
       "        vertical-align: middle;\n",
       "    }\n",
       "\n",
       "    .dataframe tbody tr th {\n",
       "        vertical-align: top;\n",
       "    }\n",
       "\n",
       "    .dataframe thead th {\n",
       "        text-align: right;\n",
       "    }\n",
       "</style>\n",
       "<table border=\"1\" class=\"dataframe\">\n",
       "  <thead>\n",
       "    <tr style=\"text-align: right;\">\n",
       "      <th></th>\n",
       "      <th>Unnamed: 0</th>\n",
       "      <th>age</th>\n",
       "      <th>job</th>\n",
       "      <th>marital</th>\n",
       "      <th>education</th>\n",
       "      <th>default</th>\n",
       "      <th>balance</th>\n",
       "      <th>housing</th>\n",
       "      <th>loan</th>\n",
       "      <th>contact</th>\n",
       "      <th>day</th>\n",
       "      <th>month</th>\n",
       "      <th>duration</th>\n",
       "      <th>campaign</th>\n",
       "      <th>pdays</th>\n",
       "      <th>previous</th>\n",
       "      <th>poutcome</th>\n",
       "      <th>y</th>\n",
       "      <th>duration_length</th>\n",
       "      <th>Age_group</th>\n",
       "    </tr>\n",
       "  </thead>\n",
       "  <tbody>\n",
       "    <tr>\n",
       "      <th>0</th>\n",
       "      <td>0</td>\n",
       "      <td>30</td>\n",
       "      <td>unemployed</td>\n",
       "      <td>married</td>\n",
       "      <td>primary</td>\n",
       "      <td>0</td>\n",
       "      <td>1787</td>\n",
       "      <td>0</td>\n",
       "      <td>0</td>\n",
       "      <td>cellular</td>\n",
       "      <td>19</td>\n",
       "      <td>oct</td>\n",
       "      <td>79</td>\n",
       "      <td>1</td>\n",
       "      <td>-1</td>\n",
       "      <td>0</td>\n",
       "      <td>unknown</td>\n",
       "      <td>0</td>\n",
       "      <td>Short</td>\n",
       "      <td>Adult</td>\n",
       "    </tr>\n",
       "    <tr>\n",
       "      <th>1</th>\n",
       "      <td>1</td>\n",
       "      <td>33</td>\n",
       "      <td>services</td>\n",
       "      <td>married</td>\n",
       "      <td>secondary</td>\n",
       "      <td>0</td>\n",
       "      <td>4789</td>\n",
       "      <td>1</td>\n",
       "      <td>1</td>\n",
       "      <td>cellular</td>\n",
       "      <td>11</td>\n",
       "      <td>may</td>\n",
       "      <td>220</td>\n",
       "      <td>1</td>\n",
       "      <td>339</td>\n",
       "      <td>4</td>\n",
       "      <td>failure</td>\n",
       "      <td>0</td>\n",
       "      <td>Long</td>\n",
       "      <td>Adult</td>\n",
       "    </tr>\n",
       "    <tr>\n",
       "      <th>2</th>\n",
       "      <td>2</td>\n",
       "      <td>35</td>\n",
       "      <td>management</td>\n",
       "      <td>single</td>\n",
       "      <td>tertiary</td>\n",
       "      <td>0</td>\n",
       "      <td>1350</td>\n",
       "      <td>1</td>\n",
       "      <td>0</td>\n",
       "      <td>cellular</td>\n",
       "      <td>16</td>\n",
       "      <td>apr</td>\n",
       "      <td>185</td>\n",
       "      <td>1</td>\n",
       "      <td>330</td>\n",
       "      <td>1</td>\n",
       "      <td>failure</td>\n",
       "      <td>0</td>\n",
       "      <td>Long</td>\n",
       "      <td>Adult</td>\n",
       "    </tr>\n",
       "    <tr>\n",
       "      <th>3</th>\n",
       "      <td>3</td>\n",
       "      <td>30</td>\n",
       "      <td>management</td>\n",
       "      <td>married</td>\n",
       "      <td>tertiary</td>\n",
       "      <td>0</td>\n",
       "      <td>1476</td>\n",
       "      <td>1</td>\n",
       "      <td>1</td>\n",
       "      <td>unknown</td>\n",
       "      <td>3</td>\n",
       "      <td>jun</td>\n",
       "      <td>199</td>\n",
       "      <td>4</td>\n",
       "      <td>-1</td>\n",
       "      <td>0</td>\n",
       "      <td>unknown</td>\n",
       "      <td>0</td>\n",
       "      <td>Long</td>\n",
       "      <td>Adult</td>\n",
       "    </tr>\n",
       "    <tr>\n",
       "      <th>4</th>\n",
       "      <td>4</td>\n",
       "      <td>59</td>\n",
       "      <td>blue-collar</td>\n",
       "      <td>married</td>\n",
       "      <td>secondary</td>\n",
       "      <td>0</td>\n",
       "      <td>0</td>\n",
       "      <td>1</td>\n",
       "      <td>0</td>\n",
       "      <td>unknown</td>\n",
       "      <td>5</td>\n",
       "      <td>may</td>\n",
       "      <td>226</td>\n",
       "      <td>1</td>\n",
       "      <td>-1</td>\n",
       "      <td>0</td>\n",
       "      <td>unknown</td>\n",
       "      <td>0</td>\n",
       "      <td>Long</td>\n",
       "      <td>Adult</td>\n",
       "    </tr>\n",
       "  </tbody>\n",
       "</table>\n",
       "</div>"
      ],
      "text/plain": [
       "   Unnamed: 0  age          job  marital  education  default  balance  \\\n",
       "0           0   30   unemployed  married    primary        0     1787   \n",
       "1           1   33     services  married  secondary        0     4789   \n",
       "2           2   35   management   single   tertiary        0     1350   \n",
       "3           3   30   management  married   tertiary        0     1476   \n",
       "4           4   59  blue-collar  married  secondary        0        0   \n",
       "\n",
       "   housing  loan   contact  day month  duration  campaign  pdays  previous  \\\n",
       "0        0     0  cellular   19   oct        79         1     -1         0   \n",
       "1        1     1  cellular   11   may       220         1    339         4   \n",
       "2        1     0  cellular   16   apr       185         1    330         1   \n",
       "3        1     1   unknown    3   jun       199         4     -1         0   \n",
       "4        1     0   unknown    5   may       226         1     -1         0   \n",
       "\n",
       "  poutcome  y duration_length Age_group  \n",
       "0  unknown  0           Short     Adult  \n",
       "1  failure  0            Long     Adult  \n",
       "2  failure  0            Long     Adult  \n",
       "3  unknown  0            Long     Adult  \n",
       "4  unknown  0            Long     Adult  "
      ]
     },
     "execution_count": 55,
     "metadata": {},
     "output_type": "execute_result"
    }
   ],
   "source": [
    "fileUpload.replace({'housing':{'yes':1, 'no':0}}, inplace=True)\n",
    "fileUpload.replace({'loan':{'yes':1, 'no':0}}, inplace=True)\n",
    "fileUpload.replace({'default':{'yes':1, 'no':0}}, inplace=True)\n",
    "fileUpload.head()"
   ]
  },
  {
   "cell_type": "code",
   "execution_count": 57,
   "id": "a5ffc868",
   "metadata": {},
   "outputs": [],
   "source": [
    "import numpy as np\n",
    "NORMALIZE_COLUMNS = ['age','housing','loan']\n",
    "fileUpload[NORMALIZE_COLUMNS] = (fileUpload[NORMALIZE_COLUMNS] - np.mean(fileUpload[NORMALIZE_COLUMNS])) / np.std(fileUpload[NORMALIZE_COLUMNS])"
   ]
  },
  {
   "cell_type": "markdown",
   "id": "55c1b202",
   "metadata": {},
   "source": [
    "Training Model"
   ]
  },
  {
   "cell_type": "code",
   "execution_count": 67,
   "id": "4f929144",
   "metadata": {},
   "outputs": [
    {
     "name": "stdout",
     "output_type": "stream",
     "text": [
      "      Unnamed: 0       age  default  balance       loan\n",
      "0              0  1.516496        0     1787 -38.803817\n",
      "1              1  1.800183        0     4789 -36.024769\n",
      "2              2  1.989308        0     1350 -38.803817\n",
      "3              3  1.516496        0     1476 -36.024769\n",
      "4              4  4.258803        0        0 -38.803817\n",
      "...          ...       ...      ...      ...        ...\n",
      "4516        4516  1.800183        0     -333 -38.803817\n",
      "4517        4517  4.069678        1    -3313 -36.024769\n",
      "4518        4518  4.069678        0      295 -38.803817\n",
      "4519        4519  1.327372        0     1137 -38.803817\n",
      "4520        4520  2.840368        0     1136 -36.024769\n",
      "\n",
      "[4521 rows x 5 columns]\n"
     ]
    }
   ],
   "source": [
    "x = fileUpload.drop(['job', 'marital', 'education','housing','contact', 'day', 'month', 'duration',\n",
    "       'campaign', 'pdays', 'previous', 'poutcome','y','duration_length','Age_group'],axis=1)\n",
    "y = fileUpload['y']\n",
    "print(x)"
   ]
  },
  {
   "cell_type": "code",
   "execution_count": 68,
   "id": "27e1a8aa",
   "metadata": {},
   "outputs": [
    {
     "name": "stdout",
     "output_type": "stream",
     "text": [
      "0       0\n",
      "1       0\n",
      "2       0\n",
      "3       0\n",
      "4       0\n",
      "       ..\n",
      "4516    0\n",
      "4517    0\n",
      "4518    0\n",
      "4519    0\n",
      "4520    0\n",
      "Name: y, Length: 4521, dtype: int64\n"
     ]
    }
   ],
   "source": [
    "print(y)"
   ]
  },
  {
   "cell_type": "code",
   "execution_count": 69,
   "id": "921484be",
   "metadata": {},
   "outputs": [
    {
     "name": "stdout",
     "output_type": "stream",
     "text": [
      "Xtrain: (3616, 5)\n",
      "Ytrain: (3616,)\n",
      "Xtest: (905, 5)\n",
      "Ytest: (905,)\n"
     ]
    }
   ],
   "source": [
    "Xtrain, Xtest, Ytrain, Ytest = train_test_split(x, y, test_size=0.2, random_state=10)\n",
    "print('Xtrain:',Xtrain.shape)\n",
    "print('Ytrain:',Ytrain.shape)\n",
    "print('Xtest:',Xtest.shape)\n",
    "print('Ytest:',Ytest.shape)"
   ]
  },
  {
   "cell_type": "code",
   "execution_count": 70,
   "id": "08efef02",
   "metadata": {},
   "outputs": [],
   "source": [
    "model_t = RandomForestClassifier()"
   ]
  },
  {
   "cell_type": "code",
   "execution_count": 71,
   "id": "0cbd45bf",
   "metadata": {},
   "outputs": [],
   "source": [
    "model_t.fit(Xtrain, Ytrain)\n",
    "y_prediction = model_t.predict(Xtest)"
   ]
  },
  {
   "cell_type": "code",
   "execution_count": 74,
   "id": "099d3895",
   "metadata": {},
   "outputs": [
    {
     "name": "stdout",
     "output_type": "stream",
     "text": [
      "Accuracy: 100.0\n"
     ]
    }
   ],
   "source": [
    "# print(y_prediction)\n",
    "accuracy = model_t.score(Xtest, y_prediction)\n",
    "print('Accuracy:',accuracy*100)"
   ]
  }
 ],
 "metadata": {
  "kernelspec": {
   "display_name": "Python 3 (ipykernel)",
   "language": "python",
   "name": "python3"
  },
  "language_info": {
   "codemirror_mode": {
    "name": "ipython",
    "version": 3
   },
   "file_extension": ".py",
   "mimetype": "text/x-python",
   "name": "python",
   "nbconvert_exporter": "python",
   "pygments_lexer": "ipython3",
   "version": "3.11.5"
  }
 },
 "nbformat": 4,
 "nbformat_minor": 5
}
